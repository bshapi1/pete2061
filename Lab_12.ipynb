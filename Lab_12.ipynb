{
 "cells": [
  {
   "cell_type": "markdown",
   "metadata": {},
   "source": [
    "1.     Write a Python code that will query the DCA.db database file (provided on Github) and create a plot of both historical rate and cumulative production for each of the wells in the DCA_Solved folder. The rate should be on the primary y-axis, while the cumulative production should be on the secondary y-axis. Do not create a new DCA.db\n",
    "\n",
    "2.     Write a Python code that will query the database and create a stacked plot of historical field gas production rate. Each gas well’s contribution should be shown in the stacked plot.\n",
    "\n",
    "3.     Write a Python code that will query the database and create a stacked plot of historical field oil production rate. Each oil well’s contribution should be shown in the stacked plot.\n",
    "\n",
    "4.     Write a Python code that will query the database and create a stacked bar plot of historical field cumulative gas production for the first 6 months. Each gas well’s contribution should be shown in the stacked bar graph.\n",
    "\n",
    "5.     Write a Python code that will query the database and create a stacked bar plot of historical field cumulative oil production for the first 6 months. Each oil well’s contribution should be shown in the stacked bar graph.\n",
    "\n",
    "6.     Load the well log data for wells 15_9-F-4, 15_9-F-1B and 15_9-F-14. Plot the following well logs against depth for each of the three wells, using a well log track for each variable:\n",
    "\n",
    "a.     bulk density (rhob) log\n",
    "\n",
    "b.     DT (interval transit time for P-wave or inverse of primary wave velocity) log\n",
    "\n",
    "c.     DTS (interval transit time for S-wave or inverse of shear wave velocity) log\n",
    "\n",
    "d.     GR (Gamma Ray) log\n",
    "\n",
    "e.     NPHI (neutron porosity) log\n",
    "\n",
    "f.      Caliper (CALI) log"
   ]
  },
  {
   "cell_type": "code",
   "execution_count": 2,
   "metadata": {},
   "outputs": [
    {
     "data": {
      "image/png": "[encoded data removed]",
      "text/plain": [
       "<Figure size 432x288 with 1 Axes>"
      ]
     },
     "metadata": {
      "needs_background": "light"
     },
     "output_type": "display_data"
    }
   ],
   "source": [
    "import numpy as np\n",
    "import matplotlib.pyplot as plt\n",
    "#import seaborn as sns\n",
    "\n",
    "import pandas as pd\n",
    "import sqlite3\n",
    "\n",
    "#create a database named \"DCA.db\" in the folder where this code is located\n",
    "conn = sqlite3.connect(\"DCA.db\")  #It will only connect to the DB if it already exists\n",
    "\n",
    "#create data table to store summary info about each case/well\n",
    "cur = conn.cursor()\n",
    "\n",
    "wellID = 1\n",
    "df1 = pd.read_sql_query(f\"SELECT time,rate, Cum,Cum_model FROM Rates WHERE wellID={wellID};\", conn)\n",
    "wellID = 2\n",
    "df2 = pd.read_sql_query(\"SELECT time,rate, Cum,Cum_model FROM Rates WHERE wellID={};\".format(wellID), conn)\n",
    "wellID = 3\n",
    "df3 = pd.read_sql_query(f\"SELECT time,rate, Cum,Cum_model FROM Rates WHERE wellID={wellID};\", conn) \n",
    "\n",
    "labels = [\"well 1\", \"well 2\", \"well 3\"]\n",
    "fig, ax = plt.subplots()\n",
    "ax.stackplot(df1['time'], df1['Cum']/1000, df2['Cum']/1000, df3['Cum']/1000, labels=labels)\n",
    "ax.legend(loc='upper left')\n",
    "plt.show()\n"
   ]
  },
  {
   "cell_type": "code",
   "execution_count": null,
   "metadata": {},
   "outputs": [],
   "source": []
  },
  {
   "cell_type": "code",
   "execution_count": null,
   "metadata": {},
   "outputs": [],
   "source": []
  }
 ],
 "metadata": {
  "kernelspec": {
   "display_name": "Python 3",
   "language": "python",
   "name": "python3"
  },
  "language_info": {
   "codemirror_mode": {
    "name": "ipython",
    "version": 3
   },
   "file_extension": ".py",
   "mimetype": "text/x-python",
   "name": "python",
   "nbconvert_exporter": "python",
   "pygments_lexer": "ipython3",
   "version": "3.7.3"
  }
 },
 "nbformat": 4,
 "nbformat_minor": 2
}
